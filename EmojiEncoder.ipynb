{
 "cells": [
  {
   "cell_type": "code",
   "execution_count": 2,
   "id": "_AY46opP3IXO",
   "metadata": {
    "colab": {
     "base_uri": "https://localhost:8080/",
     "height": 35
    },
    "id": "_AY46opP3IXO",
    "outputId": "2b1a3366-9d8c-4329-a103-0a74a8e8179f"
   },
   "outputs": [
    {
     "data": {
      "application/vnd.google.colaboratory.intrinsic+json": {
       "type": "string"
      },
      "text/plain": [
       "'/device:GPU:0'"
      ]
     },
     "execution_count": 2,
     "metadata": {},
     "output_type": "execute_result"
    }
   ],
   "source": [
    "import tensorflow as tf\n",
    "tf.test.gpu_device_name()"
   ]
  },
  {
   "cell_type": "code",
   "execution_count": 1,
   "id": "1a2bcc7b",
   "metadata": {
    "colab": {
     "base_uri": "https://localhost:8080/"
    },
    "id": "1a2bcc7b",
    "outputId": "6dcb44b0-f391-406a-f868-00788f1c66d4"
   },
   "outputs": [
    {
     "name": "stdout",
     "output_type": "stream",
     "text": [
      "Requirement already satisfied: datasets in /home/nadharm/miniconda3/envs/dl-hw2-env/lib/python3.12/site-packages (2.17.1)\n",
      "Requirement already satisfied: filelock in /home/nadharm/miniconda3/envs/dl-hw2-env/lib/python3.12/site-packages (from datasets) (3.13.1)\n",
      "Requirement already satisfied: numpy>=1.17 in /home/nadharm/miniconda3/envs/dl-hw2-env/lib/python3.12/site-packages (from datasets) (1.26.4)\n",
      "Requirement already satisfied: pyarrow>=12.0.0 in /home/nadharm/miniconda3/envs/dl-hw2-env/lib/python3.12/site-packages (from datasets) (15.0.0)\n",
      "Requirement already satisfied: pyarrow-hotfix in /home/nadharm/miniconda3/envs/dl-hw2-env/lib/python3.12/site-packages (from datasets) (0.6)\n",
      "Requirement already satisfied: dill<0.3.9,>=0.3.0 in /home/nadharm/miniconda3/envs/dl-hw2-env/lib/python3.12/site-packages (from datasets) (0.3.8)\n",
      "Requirement already satisfied: pandas in /home/nadharm/miniconda3/envs/dl-hw2-env/lib/python3.12/site-packages (from datasets) (2.2.1)\n",
      "Requirement already satisfied: requests>=2.19.0 in /home/nadharm/miniconda3/envs/dl-hw2-env/lib/python3.12/site-packages (from datasets) (2.31.0)\n",
      "Requirement already satisfied: tqdm>=4.62.1 in /home/nadharm/miniconda3/envs/dl-hw2-env/lib/python3.12/site-packages (from datasets) (4.66.2)\n",
      "Requirement already satisfied: xxhash in /home/nadharm/miniconda3/envs/dl-hw2-env/lib/python3.12/site-packages (from datasets) (3.4.1)\n",
      "Requirement already satisfied: multiprocess in /home/nadharm/miniconda3/envs/dl-hw2-env/lib/python3.12/site-packages (from datasets) (0.70.16)\n",
      "Requirement already satisfied: fsspec<=2023.10.0,>=2023.1.0 in /home/nadharm/miniconda3/envs/dl-hw2-env/lib/python3.12/site-packages (from fsspec[http]<=2023.10.0,>=2023.1.0->datasets) (2023.10.0)\n",
      "Requirement already satisfied: aiohttp in /home/nadharm/miniconda3/envs/dl-hw2-env/lib/python3.12/site-packages (from datasets) (3.9.3)\n",
      "Requirement already satisfied: huggingface-hub>=0.19.4 in /home/nadharm/miniconda3/envs/dl-hw2-env/lib/python3.12/site-packages (from datasets) (0.20.3)\n",
      "Requirement already satisfied: packaging in /home/nadharm/miniconda3/envs/dl-hw2-env/lib/python3.12/site-packages (from datasets) (23.2)\n",
      "Requirement already satisfied: pyyaml>=5.1 in /home/nadharm/miniconda3/envs/dl-hw2-env/lib/python3.12/site-packages (from datasets) (6.0.1)\n",
      "Requirement already satisfied: aiosignal>=1.1.2 in /home/nadharm/miniconda3/envs/dl-hw2-env/lib/python3.12/site-packages (from aiohttp->datasets) (1.3.1)\n",
      "Requirement already satisfied: attrs>=17.3.0 in /home/nadharm/miniconda3/envs/dl-hw2-env/lib/python3.12/site-packages (from aiohttp->datasets) (23.2.0)\n",
      "Requirement already satisfied: frozenlist>=1.1.1 in /home/nadharm/miniconda3/envs/dl-hw2-env/lib/python3.12/site-packages (from aiohttp->datasets) (1.4.1)\n",
      "Requirement already satisfied: multidict<7.0,>=4.5 in /home/nadharm/miniconda3/envs/dl-hw2-env/lib/python3.12/site-packages (from aiohttp->datasets) (6.0.5)\n",
      "Requirement already satisfied: yarl<2.0,>=1.0 in /home/nadharm/miniconda3/envs/dl-hw2-env/lib/python3.12/site-packages (from aiohttp->datasets) (1.9.4)\n",
      "Requirement already satisfied: typing-extensions>=3.7.4.3 in /home/nadharm/miniconda3/envs/dl-hw2-env/lib/python3.12/site-packages (from huggingface-hub>=0.19.4->datasets) (4.10.0)\n",
      "Requirement already satisfied: charset-normalizer<4,>=2 in /home/nadharm/miniconda3/envs/dl-hw2-env/lib/python3.12/site-packages (from requests>=2.19.0->datasets) (3.3.2)\n",
      "Requirement already satisfied: idna<4,>=2.5 in /home/nadharm/miniconda3/envs/dl-hw2-env/lib/python3.12/site-packages (from requests>=2.19.0->datasets) (3.6)\n",
      "Requirement already satisfied: urllib3<3,>=1.21.1 in /home/nadharm/miniconda3/envs/dl-hw2-env/lib/python3.12/site-packages (from requests>=2.19.0->datasets) (2.2.1)\n",
      "Requirement already satisfied: certifi>=2017.4.17 in /home/nadharm/miniconda3/envs/dl-hw2-env/lib/python3.12/site-packages (from requests>=2.19.0->datasets) (2024.2.2)\n",
      "Requirement already satisfied: python-dateutil>=2.8.2 in /home/nadharm/miniconda3/envs/dl-hw2-env/lib/python3.12/site-packages (from pandas->datasets) (2.8.2)\n",
      "Requirement already satisfied: pytz>=2020.1 in /home/nadharm/miniconda3/envs/dl-hw2-env/lib/python3.12/site-packages (from pandas->datasets) (2024.1)\n",
      "Requirement already satisfied: tzdata>=2022.7 in /home/nadharm/miniconda3/envs/dl-hw2-env/lib/python3.12/site-packages (from pandas->datasets) (2024.1)\n",
      "Requirement already satisfied: six>=1.5 in /home/nadharm/miniconda3/envs/dl-hw2-env/lib/python3.12/site-packages (from python-dateutil>=2.8.2->pandas->datasets) (1.16.0)\n"
     ]
    }
   ],
   "source": [
    "!pip install datasets\n",
    "import numpy as np\n",
    "from sklearn.model_selection import train_test_split\n",
    "from PIL import Image\n",
    "import torch\n",
    "from datasets import load_dataset\n",
    "import math\n",
    "import matplotlib.pyplot as plt\n",
    "import torchvision.transforms as transforms\n",
    "import random"
   ]
  },
  {
   "cell_type": "code",
   "execution_count": 2,
   "id": "i4XSuYEnG-tZ",
   "metadata": {
    "id": "i4XSuYEnG-tZ"
   },
   "outputs": [],
   "source": [
    "def learning_curve(num_epochs, train_loss, validation_loss):\n",
    "    epochs = np.arange(0,num_epochs)\n",
    "    plt.xlabel(\"Epoch\")\n",
    "    plt.ylabel(\"Loss Function History\")\n",
    "    plt.plot(epochs.astype(int), train_loss, linestyle=\"-\", color=\"black\")\n",
    "    plt.plot(epochs.astype(int), validation_loss, linestyle=\"-\", color=\"magenta\")\n",
    "    plt.legend(['training loss','validation loss'])\n",
    "    return plt"
   ]
  },
  {
   "cell_type": "code",
   "execution_count": 21,
   "id": "e13d85dd-6b5d-490d-a1aa-eb4d5e9869c9",
   "metadata": {},
   "outputs": [],
   "source": [
    "def classification_accuracy_curve(num_epochs, accuracy):\n",
    "    epochs = np.arange(0,num_epochs)\n",
    "    plt.xlabel(\"Epoch\")\n",
    "    plt.ylabel(\"Classification Accuracy\")\n",
    "    plt.plot(epochs.astype(int), accuracy, linestyle=\"-\", color=\"black\")\n",
    "    return plt"
   ]
  },
  {
   "cell_type": "code",
   "execution_count": 3,
   "id": "45f6ef06",
   "metadata": {
    "colab": {
     "base_uri": "https://localhost:8080/",
     "height": 217,
     "referenced_widgets": [
      "35ef8c4ad96941428d066a7037d50d26",
      "57f82a2fcb5a4d84a736299ad7de7ecc",
      "67e882c9cc00418397b5e6abb2b9ab95",
      "6b8907989bad4ad09d06b94a1ed16e60",
      "24dbe2f4cbc943e9ba9782f7154e4281",
      "9351cd2bb0e84407b90e900349b75dc5",
      "820a52796ddf4b90a5a18dad630e990a",
      "729911f9828d4aed901c591caa4eb6c0",
      "f4dcf74e13824a1bb6328801db9c1cea",
      "e961d74723b54dcbb6f681cb65a42a6d",
      "108e9c92426b4a7c9e3a5be48e848707",
      "e38c69b781424076a407db222b4f48d3",
      "698bd5df72f8444a8a673c11bfb831bf",
      "e57333cf075948869ed758fea1f0022f",
      "c45929234b784c05ab6af3933388471c",
      "41acd492ef5d4adf99e72b321de11f9c",
      "0b6900c11a13407a9c0f4ee7674e7ace",
      "26c18f59c6c44ab3be95fd0f880b21bb",
      "f7f9b5cc088048548705907c5e11e973",
      "a1f9c143070b4dcc89aac526cf7db7b9",
      "37198cbdb22840fbbf8e26add7bd4eaa",
      "633243e653204a7db2625c093d438452",
      "b0deffc76fc44e79906a28f1d525337a",
      "c9fa29f07fd5440aacde8f2bc417047a",
      "acb497d4c49942e7b949702b71238a28",
      "4f357fadc8f943df9453f7da0df9c892",
      "5a551294d7ba44f19c74fb19285d219c",
      "e116f73856214025aeae083ddf9f7781",
      "a478bafed8e047d18bf612da8d4e5e63",
      "55e44b79ef3441d594b887d4282a28e3",
      "53bd08bed70e42a29691fe0559111095",
      "fecffb63959d408a89f816f15442729d",
      "4adbfc388c0641f6b3bdbf3e0d4190b9"
     ]
    },
    "id": "45f6ef06",
    "outputId": "884d540f-c9e4-403b-faf1-4f5d393a901f"
   },
   "outputs": [],
   "source": [
    "dataset = load_dataset(\"valhalla/emoji-dataset\")"
   ]
  },
  {
   "cell_type": "code",
   "execution_count": 4,
   "id": "35c0e7c7",
   "metadata": {
    "id": "35c0e7c7"
   },
   "outputs": [],
   "source": [
    "torch.manual_seed(1)\n",
    "images = []\n",
    "aug_images = []\n",
    "labels = []\n",
    "aug_labels = []\n",
    "jitter = transforms.ColorJitter(brightness=(0.8,1.2),contrast=(.5,1.5))\n",
    "#higher sigma values blurs image more\n",
    "\n",
    "for x in dataset[\"train\"]:\n",
    "    txt = x[\"text\"]\n",
    "    if \"superhero\" in txt:\n",
    "        if txt == \"superhero\":\n",
    "          continue\n",
    "\n",
    "        orig = x[\"image\"].resize((64,64))\n",
    "        images.append(np.asarray(orig))\n",
    "        aug_images.append(np.asarray(orig))\n",
    "        label = 0\n",
    "        if \"woman\" not in txt and \"man\" in txt:\n",
    "          label = 1\n",
    "        labels.append(label)\n",
    "        aug_labels.append(label)\n",
    "        # print(\"Original:\")\n",
    "        # display(orig)\n",
    "\n",
    "        jittered_imgs = [jitter(orig) for _ in range(45)]\n",
    "        for jittered_img in jittered_imgs:\n",
    "          aug_images.append(np.asarray(jittered_img))\n",
    "          aug_labels.append(label)\n",
    "          # display(jittered_img)\n",
    "          blurrer = transforms.GaussianBlur(kernel_size=(5, 5), sigma=(random.uniform(0,.1)))\n",
    "\n",
    "          blurred_img = blurrer(jittered_img)\n",
    "          rotated_img = blurred_img.rotate(random.randint(-1, 1))\n",
    "\n",
    "          aug_images.append(np.asarray(rotated_img))\n",
    "          aug_labels.append(label)\n",
    "          # display(rotated_img)\n"
   ]
  },
  {
   "cell_type": "code",
   "execution_count": 5,
   "id": "Q180pTm7L_JS",
   "metadata": {
    "colab": {
     "base_uri": "https://localhost:8080/"
    },
    "id": "Q180pTm7L_JS",
    "outputId": "f3461153-8b88-4a32-d69f-9f6deadad173"
   },
   "outputs": [
    {
     "data": {
      "text/plain": [
       "(12, 1092, 1092)"
      ]
     },
     "execution_count": 5,
     "metadata": {},
     "output_type": "execute_result"
    }
   ],
   "source": [
    "len(images), len(aug_images), len(aug_labels)"
   ]
  },
  {
   "cell_type": "code",
   "execution_count": 6,
   "id": "ae80de91",
   "metadata": {
    "id": "ae80de91"
   },
   "outputs": [],
   "source": [
    "class autoencoder(torch.nn.Module):\n",
    "  def __init__(self, kernel_size, stride, padding, latent_rep_size, in_dims=[64, 64]):\n",
    "    super().__init__()\n",
    "\n",
    "    l1_out_dims = self.conv2d_output_dims(in_dims, kernel_size, stride, padding)\n",
    "    l2_out_dims = self.conv2d_output_dims(l1_out_dims, kernel_size, stride, padding)\n",
    "    l3_out_dims = self.conv2d_output_dims(l2_out_dims, kernel_size, stride, padding)\n",
    "    l4_out_dims = self.conv2d_output_dims(l3_out_dims, kernel_size, stride, padding)\n",
    "\n",
    "    self.encoder = torch.nn.Sequential(\n",
    "        torch.nn.Conv2d(3,128,kernel_size,stride, padding),\n",
    "        torch.nn.ReLU(),\n",
    "        torch.nn.Conv2d(128,256,kernel_size,stride, padding),\n",
    "        torch.nn.ReLU(),\n",
    "        torch.nn.Conv2d(256,512,kernel_size,stride, padding),\n",
    "        torch.nn.ReLU(),\n",
    "        torch.nn.Conv2d(512,1024,kernel_size,stride, padding),\n",
    "        torch.nn.Flatten(),\n",
    "        torch.nn.Linear(1024 * l4_out_dims[0] * l4_out_dims[1], latent_rep_size)\n",
    "    )\n",
    "\n",
    "    self.decoder = torch.nn.Sequential(\n",
    "        torch.nn.Linear(latent_rep_size, 1024 * l4_out_dims[0] * l4_out_dims[1]),\n",
    "        torch.nn.Unflatten(1, torch.Size([1024, l4_out_dims[0], l4_out_dims[1]])),\n",
    "        torch.nn.ConvTranspose2d(1024,512,kernel_size,stride, padding),\n",
    "        torch.nn.ReLU(),\n",
    "        torch.nn.ConvTranspose2d(512,256,kernel_size,stride, padding),\n",
    "        torch.nn.ReLU(),\n",
    "        torch.nn.ConvTranspose2d(256,128,kernel_size,stride, padding),\n",
    "        torch.nn.ReLU(),\n",
    "        torch.nn.ConvTranspose2d(128,3,kernel_size,stride, padding),\n",
    "        torch.nn.Sigmoid()\n",
    "    )\n",
    "\n",
    "    self.classify = torch.nn.Sequential(\n",
    "        torch.nn.Linear(latent_rep_size, 1),\n",
    "        torch.nn.Sigmoid()\n",
    "    )\n",
    "\n",
    "\n",
    "\n",
    "  # Helper to calculate output height and widths of each conv2d layer\n",
    "  def conv2d_output_dims(self, input_dims, kernel_size, stride, padding):\n",
    "    h_out = ((input_dims[0] + 2 * padding - kernel_size) // stride) + 1\n",
    "    w_out = ((input_dims[1] + 2 * padding - kernel_size) // stride) + 1\n",
    "    return [h_out, w_out]\n",
    "\n",
    "  def encode(self, x):\n",
    "    return self.encoder(x)\n",
    "\n",
    "  def decode(self, x):\n",
    "    return self.decoder(x)\n",
    "\n",
    "  def forward(self, x, classify=False):\n",
    "    encoded = self.encoder(x)\n",
    "    decoded = self.decoder(encoded)\n",
    "    if classify:\n",
    "      y_h = self.classify(encoded)\n",
    "      return decoded, y_h\n",
    "    else:\n",
    "      return decoded\n",
    "\n",
    "  def combine(self, l):\n",
    "    tmp = None\n",
    "    for x in l:\n",
    "      if tmp == None:\n",
    "        tmp = self.encoder(x)\n",
    "      else:\n",
    "        tmp += self.encoder(x)\n",
    "    tmp /= len(l)\n",
    "    decoded = self.decoder(tmp)\n",
    "    return decoded\n"
   ]
  },
  {
   "cell_type": "code",
   "execution_count": 7,
   "id": "23623254",
   "metadata": {
    "id": "23623254"
   },
   "outputs": [],
   "source": [
    "train, temp = train_test_split(aug_images,test_size=0.4, random_state=1)\n",
    "train_label, temp_label = train_test_split(aug_labels,test_size=0.4, random_state=1)\n",
    "test, validation = train_test_split(temp,test_size=0.5, random_state=1)\n",
    "test_label, validation_label = train_test_split(temp_label,test_size=0.5, random_state=1)"
   ]
  },
  {
   "cell_type": "code",
   "execution_count": 8,
   "id": "dd68c5fc",
   "metadata": {
    "colab": {
     "base_uri": "https://localhost:8080/"
    },
    "id": "dd68c5fc",
    "outputId": "ff46e7ce-0ab4-4544-97f4-0b13a5c9b3de"
   },
   "outputs": [
    {
     "data": {
      "text/plain": [
       "(655, 218, 219, 655, 218, 219)"
      ]
     },
     "execution_count": 8,
     "metadata": {},
     "output_type": "execute_result"
    }
   ],
   "source": [
    "len(train),len(test),len(validation),len(train_label),len(test_label),len(validation_label)"
   ]
  },
  {
   "cell_type": "code",
   "execution_count": 9,
   "id": "xnZyScKBPFUE",
   "metadata": {
    "colab": {
     "base_uri": "https://localhost:8080/"
    },
    "id": "xnZyScKBPFUE",
    "outputId": "f7973720-7ff2-422a-9d5a-94d358910895"
   },
   "outputs": [
    {
     "name": "stdout",
     "output_type": "stream",
     "text": [
      "cuda\n"
     ]
    }
   ],
   "source": [
    "device = torch.device(\"cuda\" if torch.cuda.is_available() else \"cpu\")\n",
    "print(device)"
   ]
  },
  {
   "cell_type": "markdown",
   "id": "Zfgv2J1q1PKt",
   "metadata": {
    "id": "Zfgv2J1q1PKt"
   },
   "source": [
    "## Training autoencoder without using gender classifier"
   ]
  },
  {
   "cell_type": "markdown",
   "id": "-tzlh8PjPJE5",
   "metadata": {
    "id": "-tzlh8PjPJE5"
   },
   "source": [
    "Our dataset is the superhero dataset. We grabbed the dataset from “valhalla/emoji-dataset” and compiled all entries with tags containing “superhero” in dataset[“train”][“text”]. We randomly changed the brightness and contrast for each emoji and for each of those, we blurred them with randomly chosen Gaussian blur and rotated them by a random degree. Our architecture is taken from (https://arxiv.org/pdf/1511.06434.pdf). For our autoencoder, using subsequent convolutional layers, we take in a 64x64x3 image into representations of 128, 256, 512, 1024 channels (with the other two dimensions relying on the kernel_size and stride). We use ReLU and Sigmoid activations. We modeled our architecture against the paper’s model because the assignment suggested this. Our architecture choice ultimately proved to be successful, as we were able to build a functioning autoencoder. One decision we made was initially dividing the RGB values by 255 and having our decoder layer do a sigmoid on the output and finally multiplying by 255 after the decoding. This allows us to avoid clipping values manually at the end. We allowed kernel_size, stride, and latent representation size to be modifiable (rather than being hard-coded as in the paper’s architecture), which required us to calculate the output sizes of each convolutional layer.\n",
    "\n",
    "Hyperparameters:\n",
    "kernel_size = 2  \n",
    "stride = 2   \n",
    "padding = 0  \n",
    "learning_rate = 0.0002   \n",
    "batch_size = 65  \n",
    "num_epochs = 300\n",
    "\n",
    "The final average training & test loss can be seen in the output of the cell below:\n",
    "Final Train Loss: 0.000162440279382281  \n",
    "Final Test Loss: 0.0002886498987209052\n",
    "\n",
    "We noticed that as we increased the number of epochs, our loss decreased. We also noticed that the more we augmented our data, the more epochs we needed in order to achieve equivalent losses. Training in mini-batches increased the performance of our model (perhaps this is because we do not need to make as many memory transactions).\n",
    "\n",
    "\n"
   ]
  },
  {
   "cell_type": "code",
   "execution_count": 34,
   "id": "NLs39fwM1H0R",
   "metadata": {
    "colab": {
     "base_uri": "https://localhost:8080/"
    },
    "id": "NLs39fwM1H0R",
    "outputId": "7b99f20a-5073-4531-9e13-ba753d832c27"
   },
   "outputs": [
    {
     "name": "stdout",
     "output_type": "stream",
     "text": [
      "Training Loss: 0.000162440279382281\n",
      "Test Loss: 0.0002886498987209052\n"
     ]
    }
   ],
   "source": [
    "AEModel = autoencoder(2, 2, 0, 100)\n",
    "AEModel.to(device)\n",
    "num_epochs = 300\n",
    "loss_func1 = torch.nn.MSELoss()\n",
    "optimizer = torch.optim.Adam(AEModel.parameters(), lr=0.0002)\n",
    "lamb = 0.1\n",
    "avg_train_loss = []\n",
    "avg_val_loss = []\n",
    "\n",
    "num_batches = 10\n",
    "batch_size = len(train) // num_batches\n",
    "train_image_tensors = [torch.Tensor(image).permute(2, 0, 1).unsqueeze(0)/255 for image in train]\n",
    "\n",
    "### TRAINING\n",
    "for i in range(num_epochs):\n",
    "  train_loss = 0\n",
    "\n",
    "  for batch_num in range(num_batches):\n",
    "    image_idx = batch_num * batch_size\n",
    "    image_tensor_batch = train_image_tensors[image_idx:image_idx + batch_size]\n",
    "    image_tensor_batch = torch.cat(image_tensor_batch, dim=0)\n",
    "    image_tensor_batch = image_tensor_batch.to(device)\n",
    "    output= AEModel.forward(image_tensor_batch)\n",
    "    loss = loss_func1(output, image_tensor_batch)\n",
    "    train_loss += loss\n",
    "\n",
    "    optimizer.zero_grad()\n",
    "    loss.backward()\n",
    "    optimizer.step()\n",
    "\n",
    "  avg_train_loss.append((train_loss/num_batches).item())\n",
    "  #validation loss\n",
    "  val_loss = 0\n",
    "  for val_image in validation:\n",
    "    # Reformat into the same format expected by nn.conv2d\n",
    "    val_image_tensor = torch.Tensor(val_image).permute(2, 0, 1).unsqueeze(0)\n",
    "    val_image_tensor /= 255\n",
    "    val_image_tensor = val_image_tensor.to(device)\n",
    "    val_output= AEModel.forward(val_image_tensor)\n",
    "    val_loss += loss_func1(val_output, val_image_tensor)\n",
    "  avg_val_loss.append((val_loss/len(validation)).item())\n",
    "\n",
    "print(\"Training Loss:\", str(avg_train_loss[-1]))\n",
    "\n",
    "### TESTING\n",
    "\n",
    "test_loss = 0\n",
    "for j, image in enumerate(test):\n",
    "  # Reformat into the same format expected by nn.conv2d\n",
    "  image_tensor = torch.Tensor(image).permute(2, 0, 1).unsqueeze(0)\n",
    "  image_tensor /= 255\n",
    "  image_tensor = image_tensor.to(device)\n",
    "  output = AEModel.forward(image_tensor, classify=False)\n",
    "  test_loss += loss_func1(output, image_tensor)\n",
    "\n",
    "test_loss /= len(test)\n",
    "print(\"Test Loss:\", str(test_loss.item()))"
   ]
  },
  {
   "cell_type": "code",
   "execution_count": 35,
   "id": "GwoTecinH_Ji",
   "metadata": {
    "colab": {
     "base_uri": "https://localhost:8080/"
    },
    "id": "GwoTecinH_Ji",
    "outputId": "65c509ad-a501-496b-cb3e-a2f3b96c95ee"
   },
   "outputs": [
    {
     "data": {
      "text/plain": [
       "300"
      ]
     },
     "execution_count": 35,
     "metadata": {},
     "output_type": "execute_result"
    }
   ],
   "source": [
    "len(avg_val_loss)"
   ]
  },
  {
   "cell_type": "code",
   "execution_count": 36,
   "id": "nXa_CQCBHhhN",
   "metadata": {
    "colab": {
     "base_uri": "https://localhost:8080/",
     "height": 449
    },
    "id": "nXa_CQCBHhhN",
    "outputId": "7e8192b4-6721-4f1b-f5bc-d225d46aea5b"
   },
   "outputs": [
    {
     "data": {
      "image/png": "[encoded data removed]",
      "text/plain": [
       "<Figure size 640x480 with 1 Axes>"
      ]
     },
     "metadata": {},
     "output_type": "display_data"
    }
   ],
   "source": [
    "plt = learning_curve(num_epochs, avg_train_loss, avg_val_loss)\n",
    "plt.title(\"\")\n",
    "plt.show()\n",
    "# train_loss.shape, val_loss.shape"
   ]
  },
  {
   "cell_type": "markdown",
   "id": "o1l-Q8Mk1XjY",
   "metadata": {
    "id": "o1l-Q8Mk1XjY"
   },
   "source": [
    "## Training autoencoder with gender classifier"
   ]
  },
  {
   "cell_type": "markdown",
   "id": "TPyu6C4RP-bm",
   "metadata": {
    "id": "TPyu6C4RP-bm"
   },
   "source": [
    "We separated our dataset into classes by differentiating between the male and female superheroes, which differ primarily in hair style. We added a classifier head to our encoder using a linear and a sigmoid layer. We use a threshold of 0.5 to determine whether a given superhero emoji is male or female.\n",
    "\n",
    "Hyper Parameters:\n",
    "kernel_size = 2  \n",
    "stride = 2   \n",
    "padding = 0  \n",
    "learning_rate = 0.0002   \n",
    "batch_size = 65  \n",
    "num_epochs = 300     \n",
    "lambda (for classifier) = 0.1\n",
    "\n",
    "Incorporating classification as an auxiliary task improved the performance of our autoencoder, since the model must train for both image reconstruction and classification simultaneously. A potential reason performance might have changed may have been because our autoencoder was more regularized during training from having to perform classification as an auxiliary task, helping to prevent overfitting. An experiment to confirm this speculation might be to train another autoencoder without classification but with L2 regularization, and then compare the performance to the original autoencoder. If the performance is similar, the implication would be that regularization is a key factor in the original autoencoder.\n",
    "\n",
    "Results:\n",
    "Final Train Loss: 0.0001278605341212824 \n",
    "Final Test Loss: 0.00014615646796301007 \n",
    "Final Classification Accuracy: 1.0"
   ]
  },
  {
   "cell_type": "code",
   "execution_count": 24,
   "id": "903ffd40",
   "metadata": {
    "colab": {
     "base_uri": "https://localhost:8080/"
    },
    "id": "903ffd40",
    "outputId": "b5727751-a29f-43c5-aa77-cb338761e689"
   },
   "outputs": [
    {
     "name": "stdout",
     "output_type": "stream",
     "text": [
      "Loss: 0.0001278605341212824\n",
      "Accuracy for man/woman: 1.0\n",
      "Test Loss: 0.00014615646796301007\n"
     ]
    }
   ],
   "source": [
    "AEModel = autoencoder(2, 2, 0, 100)\n",
    "AEModel.to(device)\n",
    "num_epochs = 300\n",
    "loss_func1 = torch.nn.MSELoss()\n",
    "loss_func2 = torch.nn.BCELoss()\n",
    "optimizer = torch.optim.Adam(AEModel.parameters(), lr=0.0002)\n",
    "lamb = 0.1\n",
    "avg_train_loss = []\n",
    "avg_val_loss = []\n",
    "avg_class_accuracy = []\n",
    "\n",
    "num_batches = 10\n",
    "batch_size = len(train) // num_batches\n",
    "num_trained = num_batches * batch_size\n",
    "train_image_tensors = [torch.Tensor(image).permute(2, 0, 1).unsqueeze(0)/255 for image in train]\n",
    "\n",
    "for i in range(num_epochs):\n",
    "  y_hats = []\n",
    "  train_loss = 0\n",
    "\n",
    "  for batch_num in range(num_batches):\n",
    "    start_idx = batch_num * batch_size\n",
    "    end_idx = start_idx + batch_size\n",
    "    image_tensor_batch = train_image_tensors[start_idx:end_idx]\n",
    "    image_tensor_batch = torch.cat(image_tensor_batch, dim=0)\n",
    "    image_tensor_batch = image_tensor_batch.to(device)\n",
    "\n",
    "    output, y_h= AEModel.forward(image_tensor_batch, classify=True)\n",
    "    loss = loss_func1(output, image_tensor_batch)\n",
    "    train_loss += loss\n",
    "\n",
    "    tmp_y = torch.Tensor(np.asarray([train_label[start_idx:end_idx]]).T)\n",
    "    tmp_y = tmp_y.to(device)\n",
    "    loss += lamb * loss_func2(y_h, tmp_y)\n",
    "\n",
    "    optimizer.zero_grad()\n",
    "    loss.backward()\n",
    "    optimizer.step()\n",
    "    y_h = y_h.cpu().detach().numpy()\n",
    "    y_h = y_h.flatten()\n",
    "    y_hats.append(y_h > 0.5)\n",
    "\n",
    "  avg_train_loss.append((train_loss/num_batches).item())\n",
    "  #validation loss\n",
    "  val_loss = 0\n",
    "  for i,val_image in enumerate(validation):\n",
    "    # Reformat into the same format expected by nn.conv2d\n",
    "    val_image_tensor = torch.Tensor(val_image).permute(2, 0, 1).unsqueeze(0)\n",
    "    val_image_tensor /= 255\n",
    "    val_image_tensor = val_image_tensor.to(device)\n",
    "    val_output, val_y_h = AEModel.forward(val_image_tensor, classify=True)\n",
    "    tmp_loss = loss_func1(val_output, val_image_tensor)\n",
    "    val_tmp_y = torch.Tensor(np.asarray([[validation_label[i]]]))\n",
    "    val_tmp_y = val_tmp_y.to(device)\n",
    "    tmp_loss += loss_func2(val_y_h, val_tmp_y)\n",
    "    val_loss += tmp_loss\n",
    "  avg_val_loss.append((val_loss/len(validation)).item())\n",
    "\n",
    "  y_hats = np.asarray(y_hats, dtype=int).flatten()\n",
    "  avg_class_accuracy.append(np.mean(y_hats == np.asarray(train_label[:num_trained])))\n",
    "\n",
    "\n",
    "print(\"Loss:\", str(avg_train_loss[-1]))\n",
    "print(\"Accuracy for man/woman:\", np.mean(y_hats == np.asarray(train_label[:num_trained])))\n",
    "\n",
    "### TESTING\n",
    "test_loss = 0\n",
    "for j, image in enumerate(test):\n",
    "  # Reformat into the same format expected by nn.conv2d\n",
    "  image_tensor = torch.Tensor(image).permute(2, 0, 1).unsqueeze(0)\n",
    "  image_tensor /= 255\n",
    "  image_tensor = image_tensor.to(device)\n",
    "  output = AEModel.forward(image_tensor, classify=False)\n",
    "  test_loss += loss_func1(output, image_tensor)\n",
    "\n",
    "test_loss /= len(test)\n",
    "print(\"Test Loss:\", str(test_loss.item()))\n"
   ]
  },
  {
   "cell_type": "code",
   "execution_count": 25,
   "id": "a4fLoGijOGY_",
   "metadata": {
    "colab": {
     "base_uri": "https://localhost:8080/",
     "height": 449
    },
    "id": "a4fLoGijOGY_",
    "outputId": "86e2e51f-c69a-4a3d-f1c9-0c57d55a3f7f"
   },
   "outputs": [
    {
     "data": {
      "image/png": "[encoded data removed]",
      "text/plain": [
       "<Figure size 640x480 with 1 Axes>"
      ]
     },
     "metadata": {},
     "output_type": "display_data"
    }
   ],
   "source": [
    "replt = learning_curve(num_epochs, avg_train_loss, avg_val_loss)\n",
    "plt.title(\"\")\n",
    "plt.show()"
   ]
  },
  {
   "cell_type": "code",
   "execution_count": 26,
   "id": "c3020686-9b25-467a-a34f-a1c0e01954fb",
   "metadata": {},
   "outputs": [
    {
     "data": {
      "image/png": "[encoded data removed]",
      "text/plain": [
       "<Figure size 640x480 with 1 Axes>"
      ]
     },
     "metadata": {},
     "output_type": "display_data"
    }
   ],
   "source": [
    "replt = classification_accuracy_curve(num_epochs, avg_class_accuracy)\n",
    "plt.title(\"\")\n",
    "plt.show()"
   ]
  },
  {
   "cell_type": "markdown",
   "id": "QbfYU3VSQpCf",
   "metadata": {
    "id": "QbfYU3VSQpCf"
   },
   "source": [
    "## Combining Emojis"
   ]
  },
  {
   "cell_type": "markdown",
   "id": "B-G9DkGUQrNQ",
   "metadata": {
    "id": "B-G9DkGUQrNQ"
   },
   "source": [
    "We selected the male hair style attribute by using the male superhero emoji and composed it with a female superhero of different hair and skin color. After the two desired emojis were converted to tensors, they were passed into a custom “combine” function of our autoencoder. In this function, each image is encoded, and all encoded image vectors are then summed and divided by the total number of images to calculate the average latent representation of all images. Finally, this average encoding was decoded to extract the final result.\n",
    "\n",
    "Our composite image appears to have successfully composed the average representation of the two original emojis. Aspects of both original hair styles can be seen in the final image’s hair, and the skin tone of the final image could also be described as a mix of those of the originals. To improve the quality of our generated image, we might attempt to further apply data augmentation techniques to artificially increase the size and diversity of our training dataset by performing common augmentations such as rotation, flipping, scaling, and color transformations. With a larger and more diverse dataset, the model would be more robust and regularized and would likely be able to generate a higher quality image.\n"
   ]
  },
  {
   "cell_type": "code",
   "execution_count": 27,
   "id": "uRQtZVqfYsGB",
   "metadata": {
    "colab": {
     "base_uri": "https://localhost:8080/",
     "height": 261
    },
    "id": "uRQtZVqfYsGB",
    "outputId": "9082702c-d786-4ca8-a0eb-ce9c62afedd6"
   },
   "outputs": [
    {
     "name": "stdout",
     "output_type": "stream",
     "text": [
      "Original 1\n"
     ]
    },
    {
     "data": {
      "image/jpeg": "[encoded data removed]",
      "image/png": "[encoded data removed]",
      "text/plain": [
       "<PIL.Image.Image image mode=RGB size=64x64>"
      ]
     },
     "metadata": {},
     "output_type": "display_data"
    },
    {
     "name": "stdout",
     "output_type": "stream",
     "text": [
      "Original 2\n"
     ]
    },
    {
     "data": {
      "image/jpeg": "[encoded data removed]",
      "image/png": "[encoded data removed]",
      "text/plain": [
       "<PIL.Image.Image image mode=RGB size=64x64>"
      ]
     },
     "metadata": {},
     "output_type": "display_data"
    },
    {
     "name": "stdout",
     "output_type": "stream",
     "text": [
      "Combined Image\n"
     ]
    },
    {
     "data": {
      "image/jpeg": "[encoded data removed]",
      "image/png": "[encoded data removed]",
      "text/plain": [
       "<PIL.Image.Image image mode=RGB size=64x64>"
      ]
     },
     "metadata": {},
     "output_type": "display_data"
    }
   ],
   "source": [
    "image_tensor1 = torch.Tensor(images[2]).permute(2, 0, 1).unsqueeze(0)/255\n",
    "image_tensor2 = torch.Tensor(images[9]).permute(2, 0, 1).unsqueeze(0)/255\n",
    "image_tensor1 = image_tensor1.to(device)\n",
    "image_tensor2 = image_tensor2.to(device)\n",
    "output = AEModel.combine([image_tensor1, image_tensor2])\n",
    "\n",
    "new_image = (torch.squeeze(output.cpu(), 0).permute(1,2,0)).detach().numpy()\n",
    "new_image *= 255\n",
    "new_image = new_image.astype(np.uint8)\n",
    "new_image = Image.fromarray(new_image)\n",
    "\n",
    "print(\"Original 1\")\n",
    "display(Image.fromarray(images[2]))\n",
    "print(\"Original 2\")\n",
    "display(Image.fromarray(images[9]))\n",
    "print(\"Combined Image\")\n",
    "display(new_image)\n"
   ]
  },
  {
   "cell_type": "markdown",
   "id": "D81IGakwc6Nq",
   "metadata": {
    "id": "D81IGakwc6Nq"
   },
   "source": [
    "## Examples of our autoencoder \"reconstructing image\""
   ]
  },
  {
   "cell_type": "code",
   "execution_count": 54,
   "id": "bX9YLAxYdBCd",
   "metadata": {
    "colab": {
     "base_uri": "https://localhost:8080/",
     "height": 1000
    },
    "id": "bX9YLAxYdBCd",
    "outputId": "4a20ce21-030d-48f7-fa7f-642569d41ac0"
   },
   "outputs": [
    {
     "name": "stdout",
     "output_type": "stream",
     "text": [
      "Original Image:\n"
     ]
    },
    {
     "data": {
      "image/png": "[encoded data removed]",
      "text/plain": [
       "<PIL.Image.Image image mode=RGB size=64x64>"
      ]
     },
     "metadata": {},
     "output_type": "display_data"
    },
    {
     "name": "stdout",
     "output_type": "stream",
     "text": [
      "Reconstructed Image:\n"
     ]
    },
    {
     "data": {
      "image/png": "[encoded data removed]",
      "text/plain": [
       "<PIL.Image.Image image mode=RGB size=64x64>"
      ]
     },
     "metadata": {},
     "output_type": "display_data"
    },
    {
     "name": "stdout",
     "output_type": "stream",
     "text": [
      "Original Image:\n"
     ]
    },
    {
     "data": {
      "image/png": "[encoded data removed]",
      "text/plain": [
       "<PIL.Image.Image image mode=RGB size=64x64>"
      ]
     },
     "metadata": {},
     "output_type": "display_data"
    },
    {
     "name": "stdout",
     "output_type": "stream",
     "text": [
      "Reconstructed Image:\n"
     ]
    },
    {
     "data": {
      "image/png": "[encoded data removed]",
      "text/plain": [
       "<PIL.Image.Image image mode=RGB size=64x64>"
      ]
     },
     "metadata": {},
     "output_type": "display_data"
    },
    {
     "name": "stdout",
     "output_type": "stream",
     "text": [
      "Original Image:\n"
     ]
    },
    {
     "data": {
      "image/png": "[encoded data removed]",
      "text/plain": [
       "<PIL.Image.Image image mode=RGB size=64x64>"
      ]
     },
     "metadata": {},
     "output_type": "display_data"
    },
    {
     "name": "stdout",
     "output_type": "stream",
     "text": [
      "Reconstructed Image:\n"
     ]
    },
    {
     "data": {
      "image/png": "[encoded data removed]",
      "text/plain": [
       "<PIL.Image.Image image mode=RGB size=64x64>"
      ]
     },
     "metadata": {},
     "output_type": "display_data"
    },
    {
     "name": "stdout",
     "output_type": "stream",
     "text": [
      "Original Image:\n"
     ]
    },
    {
     "data": {
      "image/png": "[encoded data removed]",
      "text/plain": [
       "<PIL.Image.Image image mode=RGB size=64x64>"
      ]
     },
     "metadata": {},
     "output_type": "display_data"
    },
    {
     "name": "stdout",
     "output_type": "stream",
     "text": [
      "Reconstructed Image:\n"
     ]
    },
    {
     "data": {
      "image/png": "[encoded data removed]",
      "text/plain": [
       "<PIL.Image.Image image mode=RGB size=64x64>"
      ]
     },
     "metadata": {},
     "output_type": "display_data"
    },
    {
     "name": "stdout",
     "output_type": "stream",
     "text": [
      "Original Image:\n"
     ]
    },
    {
     "data": {
      "image/png": "[encoded data removed]",
      "text/plain": [
       "<PIL.Image.Image image mode=RGB size=64x64>"
      ]
     },
     "metadata": {},
     "output_type": "display_data"
    },
    {
     "name": "stdout",
     "output_type": "stream",
     "text": [
      "Reconstructed Image:\n"
     ]
    },
    {
     "data": {
      "image/png": "[encoded data removed]",
      "text/plain": [
       "<PIL.Image.Image image mode=RGB size=64x64>"
      ]
     },
     "metadata": {},
     "output_type": "display_data"
    },
    {
     "name": "stdout",
     "output_type": "stream",
     "text": [
      "Original Image:\n"
     ]
    },
    {
     "data": {
      "image/png": "[encoded data removed]",
      "text/plain": [
       "<PIL.Image.Image image mode=RGB size=64x64>"
      ]
     },
     "metadata": {},
     "output_type": "display_data"
    },
    {
     "name": "stdout",
     "output_type": "stream",
     "text": [
      "Reconstructed Image:\n"
     ]
    },
    {
     "data": {
      "image/png": "[encoded data removed]",
      "text/plain": [
       "<PIL.Image.Image image mode=RGB size=64x64>"
      ]
     },
     "metadata": {},
     "output_type": "display_data"
    },
    {
     "name": "stdout",
     "output_type": "stream",
     "text": [
      "Original Image:\n"
     ]
    },
    {
     "data": {
      "image/png": "[encoded data removed]",
      "text/plain": [
       "<PIL.Image.Image image mode=RGB size=64x64>"
      ]
     },
     "metadata": {},
     "output_type": "display_data"
    },
    {
     "name": "stdout",
     "output_type": "stream",
     "text": [
      "Reconstructed Image:\n"
     ]
    },
    {
     "data": {
      "image/png": "[encoded data removed]",
      "text/plain": [
       "<PIL.Image.Image image mode=RGB size=64x64>"
      ]
     },
     "metadata": {},
     "output_type": "display_data"
    },
    {
     "name": "stdout",
     "output_type": "stream",
     "text": [
      "Original Image:\n"
     ]
    },
    {
     "data": {
      "image/png": "[encoded data removed]",
      "text/plain": [
       "<PIL.Image.Image image mode=RGB size=64x64>"
      ]
     },
     "metadata": {},
     "output_type": "display_data"
    },
    {
     "name": "stdout",
     "output_type": "stream",
     "text": [
      "Reconstructed Image:\n"
     ]
    },
    {
     "data": {
      "image/png": "[encoded data removed]",
      "text/plain": [
       "<PIL.Image.Image image mode=RGB size=64x64>"
      ]
     },
     "metadata": {},
     "output_type": "display_data"
    },
    {
     "name": "stdout",
     "output_type": "stream",
     "text": [
      "Original Image:\n"
     ]
    },
    {
     "data": {
      "image/png": "[encoded data removed]",
      "text/plain": [
       "<PIL.Image.Image image mode=RGB size=64x64>"
      ]
     },
     "metadata": {},
     "output_type": "display_data"
    },
    {
     "name": "stdout",
     "output_type": "stream",
     "text": [
      "Reconstructed Image:\n"
     ]
    },
    {
     "data": {
      "image/png": "[encoded data removed]",
      "text/plain": [
       "<PIL.Image.Image image mode=RGB size=64x64>"
      ]
     },
     "metadata": {},
     "output_type": "display_data"
    },
    {
     "name": "stdout",
     "output_type": "stream",
     "text": [
      "Original Image:\n"
     ]
    },
    {
     "data": {
      "image/png": "[encoded data removed]",
      "text/plain": [
       "<PIL.Image.Image image mode=RGB size=64x64>"
      ]
     },
     "metadata": {},
     "output_type": "display_data"
    },
    {
     "name": "stdout",
     "output_type": "stream",
     "text": [
      "Reconstructed Image:\n"
     ]
    },
    {
     "data": {
      "image/png": "[encoded data removed]",
      "text/plain": [
       "<PIL.Image.Image image mode=RGB size=64x64>"
      ]
     },
     "metadata": {},
     "output_type": "display_data"
    },
    {
     "name": "stdout",
     "output_type": "stream",
     "text": [
      "Original Image:\n"
     ]
    },
    {
     "data": {
      "image/png": "[encoded data removed]",
      "text/plain": [
       "<PIL.Image.Image image mode=RGB size=64x64>"
      ]
     },
     "metadata": {},
     "output_type": "display_data"
    },
    {
     "name": "stdout",
     "output_type": "stream",
     "text": [
      "Reconstructed Image:\n"
     ]
    },
    {
     "data": {
      "image/png": "[encoded data removed]",
      "text/plain": [
       "<PIL.Image.Image image mode=RGB size=64x64>"
      ]
     },
     "metadata": {},
     "output_type": "display_data"
    },
    {
     "name": "stdout",
     "output_type": "stream",
     "text": [
      "Original Image:\n"
     ]
    },
    {
     "data": {
      "image/png": "[encoded data removed]",
      "text/plain": [
       "<PIL.Image.Image image mode=RGB size=64x64>"
      ]
     },
     "metadata": {},
     "output_type": "display_data"
    },
    {
     "name": "stdout",
     "output_type": "stream",
     "text": [
      "Reconstructed Image:\n"
     ]
    },
    {
     "data": {
      "image/png": "[encoded data removed]",
      "text/plain": [
       "<PIL.Image.Image image mode=RGB size=64x64>"
      ]
     },
     "metadata": {},
     "output_type": "display_data"
    }
   ],
   "source": [
    "for image in images:\n",
    "  image_tensor = torch.Tensor(image).permute(2, 0, 1).unsqueeze(0)/255\n",
    "  image_tensor = image_tensor.to(device)\n",
    "  output = AEModel.forward(image_tensor)\n",
    "\n",
    "  reconstructed_image = (torch.squeeze(output.cpu(), 0).permute(1,2,0)).detach().numpy()\n",
    "  reconstructed_image *= 255\n",
    "  reconstructed_image = reconstructed_image.astype(np.uint8)\n",
    "  reconstructed_image = Image.fromarray(reconstructed_image)\n",
    "  print(\"Original Image:\")\n",
    "  display(Image.fromarray(image))\n",
    "  print(\"Reconstructed Image:\")\n",
    "  display(reconstructed_image)"
   ]
  }
 ],
 "metadata": {
  "accelerator": "GPU",
  "colab": {
   "gpuType": "T4",
   "provenance": []
  },
  "kernelspec": {
   "display_name": "Python 3 (ipykernel)",
   "language": "python",
   "name": "python3"
  },
  "language_info": {
   "codemirror_mode": {
    "name": "ipython",
    "version": 3
   },
   "file_extension": ".py",
   "mimetype": "text/x-python",
   "name": "python",
   "nbconvert_exporter": "python",
   "pygments_lexer": "ipython3",
   "version": "3.12.2"
  },
  "widgets": {
   "application/vnd.jupyter.widget-state+json": {
    "0b6900c11a13407a9c0f4ee7674e7ace": {
     "model_module": "@jupyter-widgets/base",
     "model_module_version": "1.2.0",
     "model_name": "LayoutModel",
     "state": {
      "_model_module": "@jupyter-widgets/base",
      "_model_module_version": "1.2.0",
      "_model_name": "LayoutModel",
      "_view_count": null,
      "_view_module": "@jupyter-widgets/base",
      "_view_module_version": "1.2.0",
      "_view_name": "LayoutView",
      "align_content": null,
      "align_items": null,
      "align_self": null,
      "border": null,
      "bottom": null,
      "display": null,
      "flex": null,
      "flex_flow": null,
      "grid_area": null,
      "grid_auto_columns": null,
      "grid_auto_flow": null,
      "grid_auto_rows": null,
      "grid_column": null,
      "grid_gap": null,
      "grid_row": null,
      "grid_template_areas": null,
      "grid_template_columns": null,
      "grid_template_rows": null,
      "height": null,
      "justify_content": null,
      "justify_items": null,
      "left": null,
      "margin": null,
      "max_height": null,
      "max_width": null,
      "min_height": null,
      "min_width": null,
      "object_fit": null,
      "object_position": null,
      "order": null,
      "overflow": null,
      "overflow_x": null,
      "overflow_y": null,
      "padding": null,
      "right": null,
      "top": null,
      "visibility": null,
      "width": null
     }
    },
    "108e9c92426b4a7c9e3a5be48e848707": {
     "model_module": "@jupyter-widgets/controls",
     "model_module_version": "1.5.0",
     "model_name": "DescriptionStyleModel",
     "state": {
      "_model_module": "@jupyter-widgets/controls",
      "_model_module_version": "1.5.0",
      "_model_name": "DescriptionStyleModel",
      "_view_count": null,
      "_view_module": "@jupyter-widgets/base",
      "_view_module_version": "1.2.0",
      "_view_name": "StyleView",
      "description_width": ""
     }
    },
    "24dbe2f4cbc943e9ba9782f7154e4281": {
     "model_module": "@jupyter-widgets/base",
     "model_module_version": "1.2.0",
     "model_name": "LayoutModel",
     "state": {
      "_model_module": "@jupyter-widgets/base",
      "_model_module_version": "1.2.0",
      "_model_name": "LayoutModel",
      "_view_count": null,
      "_view_module": "@jupyter-widgets/base",
      "_view_module_version": "1.2.0",
      "_view_name": "LayoutView",
      "align_content": null,
      "align_items": null,
      "align_self": null,
      "border": null,
      "bottom": null,
      "display": null,
      "flex": null,
      "flex_flow": null,
      "grid_area": null,
      "grid_auto_columns": null,
      "grid_auto_flow": null,
      "grid_auto_rows": null,
      "grid_column": null,
      "grid_gap": null,
      "grid_row": null,
      "grid_template_areas": null,
      "grid_template_columns": null,
      "grid_template_rows": null,
      "height": null,
      "justify_content": null,
      "justify_items": null,
      "left": null,
      "margin": null,
      "max_height": null,
      "max_width": null,
      "min_height": null,
      "min_width": null,
      "object_fit": null,
      "object_position": null,
      "order": null,
      "overflow": null,
      "overflow_x": null,
      "overflow_y": null,
      "padding": null,
      "right": null,
      "top": null,
      "visibility": null,
      "width": null
     }
    },
    "26c18f59c6c44ab3be95fd0f880b21bb": {
     "model_module": "@jupyter-widgets/controls",
     "model_module_version": "1.5.0",
     "model_name": "DescriptionStyleModel",
     "state": {
      "_model_module": "@jupyter-widgets/controls",
      "_model_module_version": "1.5.0",
      "_model_name": "DescriptionStyleModel",
      "_view_count": null,
      "_view_module": "@jupyter-widgets/base",
      "_view_module_version": "1.2.0",
      "_view_name": "StyleView",
      "description_width": ""
     }
    },
    "35ef8c4ad96941428d066a7037d50d26": {
     "model_module": "@jupyter-widgets/controls",
     "model_module_version": "1.5.0",
     "model_name": "HBoxModel",
     "state": {
      "_dom_classes": [],
      "_model_module": "@jupyter-widgets/controls",
      "_model_module_version": "1.5.0",
      "_model_name": "HBoxModel",
      "_view_count": null,
      "_view_module": "@jupyter-widgets/controls",
      "_view_module_version": "1.5.0",
      "_view_name": "HBoxView",
      "box_style": "",
      "children": [
       "IPY_MODEL_57f82a2fcb5a4d84a736299ad7de7ecc",
       "IPY_MODEL_67e882c9cc00418397b5e6abb2b9ab95",
       "IPY_MODEL_6b8907989bad4ad09d06b94a1ed16e60"
      ],
      "layout": "IPY_MODEL_24dbe2f4cbc943e9ba9782f7154e4281"
     }
    },
    "37198cbdb22840fbbf8e26add7bd4eaa": {
     "model_module": "@jupyter-widgets/base",
     "model_module_version": "1.2.0",
     "model_name": "LayoutModel",
     "state": {
      "_model_module": "@jupyter-widgets/base",
      "_model_module_version": "1.2.0",
      "_model_name": "LayoutModel",
      "_view_count": null,
      "_view_module": "@jupyter-widgets/base",
      "_view_module_version": "1.2.0",
      "_view_name": "LayoutView",
      "align_content": null,
      "align_items": null,
      "align_self": null,
      "border": null,
      "bottom": null,
      "display": null,
      "flex": null,
      "flex_flow": null,
      "grid_area": null,
      "grid_auto_columns": null,
      "grid_auto_flow": null,
      "grid_auto_rows": null,
      "grid_column": null,
      "grid_gap": null,
      "grid_row": null,
      "grid_template_areas": null,
      "grid_template_columns": null,
      "grid_template_rows": null,
      "height": null,
      "justify_content": null,
      "justify_items": null,
      "left": null,
      "margin": null,
      "max_height": null,
      "max_width": null,
      "min_height": null,
      "min_width": null,
      "object_fit": null,
      "object_position": null,
      "order": null,
      "overflow": null,
      "overflow_x": null,
      "overflow_y": null,
      "padding": null,
      "right": null,
      "top": null,
      "visibility": null,
      "width": null
     }
    },
    "41acd492ef5d4adf99e72b321de11f9c": {
     "model_module": "@jupyter-widgets/base",
     "model_module_version": "1.2.0",
     "model_name": "LayoutModel",
     "state": {
      "_model_module": "@jupyter-widgets/base",
      "_model_module_version": "1.2.0",
      "_model_name": "LayoutModel",
      "_view_count": null,
      "_view_module": "@jupyter-widgets/base",
      "_view_module_version": "1.2.0",
      "_view_name": "LayoutView",
      "align_content": null,
      "align_items": null,
      "align_self": null,
      "border": null,
      "bottom": null,
      "display": null,
      "flex": null,
      "flex_flow": null,
      "grid_area": null,
      "grid_auto_columns": null,
      "grid_auto_flow": null,
      "grid_auto_rows": null,
      "grid_column": null,
      "grid_gap": null,
      "grid_row": null,
      "grid_template_areas": null,
      "grid_template_columns": null,
      "grid_template_rows": null,
      "height": null,
      "justify_content": null,
      "justify_items": null,
      "left": null,
      "margin": null,
      "max_height": null,
      "max_width": null,
      "min_height": null,
      "min_width": null,
      "object_fit": null,
      "object_position": null,
      "order": null,
      "overflow": null,
      "overflow_x": null,
      "overflow_y": null,
      "padding": null,
      "right": null,
      "top": null,
      "visibility": null,
      "width": null
     }
    },
    "4adbfc388c0641f6b3bdbf3e0d4190b9": {
     "model_module": "@jupyter-widgets/controls",
     "model_module_version": "1.5.0",
     "model_name": "DescriptionStyleModel",
     "state": {
      "_model_module": "@jupyter-widgets/controls",
      "_model_module_version": "1.5.0",
      "_model_name": "DescriptionStyleModel",
      "_view_count": null,
      "_view_module": "@jupyter-widgets/base",
      "_view_module_version": "1.2.0",
      "_view_name": "StyleView",
      "description_width": ""
     }
    },
    "4f357fadc8f943df9453f7da0df9c892": {
     "model_module": "@jupyter-widgets/controls",
     "model_module_version": "1.5.0",
     "model_name": "HTMLModel",
     "state": {
      "_dom_classes": [],
      "_model_module": "@jupyter-widgets/controls",
      "_model_module_version": "1.5.0",
      "_model_name": "HTMLModel",
      "_view_count": null,
      "_view_module": "@jupyter-widgets/controls",
      "_view_module_version": "1.5.0",
      "_view_name": "HTMLView",
      "description": "",
      "description_tooltip": null,
      "layout": "IPY_MODEL_fecffb63959d408a89f816f15442729d",
      "placeholder": "​",
      "style": "IPY_MODEL_4adbfc388c0641f6b3bdbf3e0d4190b9",
      "value": " 2749/2749 [00:01&lt;00:00, 2450.85 examples/s]"
     }
    },
    "53bd08bed70e42a29691fe0559111095": {
     "model_module": "@jupyter-widgets/controls",
     "model_module_version": "1.5.0",
     "model_name": "ProgressStyleModel",
     "state": {
      "_model_module": "@jupyter-widgets/controls",
      "_model_module_version": "1.5.0",
      "_model_name": "ProgressStyleModel",
      "_view_count": null,
      "_view_module": "@jupyter-widgets/base",
      "_view_module_version": "1.2.0",
      "_view_name": "StyleView",
      "bar_color": null,
      "description_width": ""
     }
    },
    "55e44b79ef3441d594b887d4282a28e3": {
     "model_module": "@jupyter-widgets/base",
     "model_module_version": "1.2.0",
     "model_name": "LayoutModel",
     "state": {
      "_model_module": "@jupyter-widgets/base",
      "_model_module_version": "1.2.0",
      "_model_name": "LayoutModel",
      "_view_count": null,
      "_view_module": "@jupyter-widgets/base",
      "_view_module_version": "1.2.0",
      "_view_name": "LayoutView",
      "align_content": null,
      "align_items": null,
      "align_self": null,
      "border": null,
      "bottom": null,
      "display": null,
      "flex": null,
      "flex_flow": null,
      "grid_area": null,
      "grid_auto_columns": null,
      "grid_auto_flow": null,
      "grid_auto_rows": null,
      "grid_column": null,
      "grid_gap": null,
      "grid_row": null,
      "grid_template_areas": null,
      "grid_template_columns": null,
      "grid_template_rows": null,
      "height": null,
      "justify_content": null,
      "justify_items": null,
      "left": null,
      "margin": null,
      "max_height": null,
      "max_width": null,
      "min_height": null,
      "min_width": null,
      "object_fit": null,
      "object_position": null,
      "order": null,
      "overflow": null,
      "overflow_x": null,
      "overflow_y": null,
      "padding": null,
      "right": null,
      "top": null,
      "visibility": null,
      "width": null
     }
    },
    "57f82a2fcb5a4d84a736299ad7de7ecc": {
     "model_module": "@jupyter-widgets/controls",
     "model_module_version": "1.5.0",
     "model_name": "HTMLModel",
     "state": {
      "_dom_classes": [],
      "_model_module": "@jupyter-widgets/controls",
      "_model_module_version": "1.5.0",
      "_model_name": "HTMLModel",
      "_view_count": null,
      "_view_module": "@jupyter-widgets/controls",
      "_view_module_version": "1.5.0",
      "_view_name": "HTMLView",
      "description": "",
      "description_tooltip": null,
      "layout": "IPY_MODEL_9351cd2bb0e84407b90e900349b75dc5",
      "placeholder": "​",
      "style": "IPY_MODEL_820a52796ddf4b90a5a18dad630e990a",
      "value": "Downloading metadata: 100%"
     }
    },
    "5a551294d7ba44f19c74fb19285d219c": {
     "model_module": "@jupyter-widgets/base",
     "model_module_version": "1.2.0",
     "model_name": "LayoutModel",
     "state": {
      "_model_module": "@jupyter-widgets/base",
      "_model_module_version": "1.2.0",
      "_model_name": "LayoutModel",
      "_view_count": null,
      "_view_module": "@jupyter-widgets/base",
      "_view_module_version": "1.2.0",
      "_view_name": "LayoutView",
      "align_content": null,
      "align_items": null,
      "align_self": null,
      "border": null,
      "bottom": null,
      "display": null,
      "flex": null,
      "flex_flow": null,
      "grid_area": null,
      "grid_auto_columns": null,
      "grid_auto_flow": null,
      "grid_auto_rows": null,
      "grid_column": null,
      "grid_gap": null,
      "grid_row": null,
      "grid_template_areas": null,
      "grid_template_columns": null,
      "grid_template_rows": null,
      "height": null,
      "justify_content": null,
      "justify_items": null,
      "left": null,
      "margin": null,
      "max_height": null,
      "max_width": null,
      "min_height": null,
      "min_width": null,
      "object_fit": null,
      "object_position": null,
      "order": null,
      "overflow": null,
      "overflow_x": null,
      "overflow_y": null,
      "padding": null,
      "right": null,
      "top": null,
      "visibility": null,
      "width": null
     }
    },
    "633243e653204a7db2625c093d438452": {
     "model_module": "@jupyter-widgets/controls",
     "model_module_version": "1.5.0",
     "model_name": "DescriptionStyleModel",
     "state": {
      "_model_module": "@jupyter-widgets/controls",
      "_model_module_version": "1.5.0",
      "_model_name": "DescriptionStyleModel",
      "_view_count": null,
      "_view_module": "@jupyter-widgets/base",
      "_view_module_version": "1.2.0",
      "_view_name": "StyleView",
      "description_width": ""
     }
    },
    "67e882c9cc00418397b5e6abb2b9ab95": {
     "model_module": "@jupyter-widgets/controls",
     "model_module_version": "1.5.0",
     "model_name": "FloatProgressModel",
     "state": {
      "_dom_classes": [],
      "_model_module": "@jupyter-widgets/controls",
      "_model_module_version": "1.5.0",
      "_model_name": "FloatProgressModel",
      "_view_count": null,
      "_view_module": "@jupyter-widgets/controls",
      "_view_module_version": "1.5.0",
      "_view_name": "ProgressView",
      "bar_style": "success",
      "description": "",
      "description_tooltip": null,
      "layout": "IPY_MODEL_729911f9828d4aed901c591caa4eb6c0",
      "max": 720,
      "min": 0,
      "orientation": "horizontal",
      "style": "IPY_MODEL_f4dcf74e13824a1bb6328801db9c1cea",
      "value": 720
     }
    },
    "698bd5df72f8444a8a673c11bfb831bf": {
     "model_module": "@jupyter-widgets/controls",
     "model_module_version": "1.5.0",
     "model_name": "HTMLModel",
     "state": {
      "_dom_classes": [],
      "_model_module": "@jupyter-widgets/controls",
      "_model_module_version": "1.5.0",
      "_model_name": "HTMLModel",
      "_view_count": null,
      "_view_module": "@jupyter-widgets/controls",
      "_view_module_version": "1.5.0",
      "_view_name": "HTMLView",
      "description": "",
      "description_tooltip": null,
      "layout": "IPY_MODEL_0b6900c11a13407a9c0f4ee7674e7ace",
      "placeholder": "​",
      "style": "IPY_MODEL_26c18f59c6c44ab3be95fd0f880b21bb",
      "value": "Downloading data: 100%"
     }
    },
    "6b8907989bad4ad09d06b94a1ed16e60": {
     "model_module": "@jupyter-widgets/controls",
     "model_module_version": "1.5.0",
     "model_name": "HTMLModel",
     "state": {
      "_dom_classes": [],
      "_model_module": "@jupyter-widgets/controls",
      "_model_module_version": "1.5.0",
      "_model_name": "HTMLModel",
      "_view_count": null,
      "_view_module": "@jupyter-widgets/controls",
      "_view_module_version": "1.5.0",
      "_view_name": "HTMLView",
      "description": "",
      "description_tooltip": null,
      "layout": "IPY_MODEL_e961d74723b54dcbb6f681cb65a42a6d",
      "placeholder": "​",
      "style": "IPY_MODEL_108e9c92426b4a7c9e3a5be48e848707",
      "value": " 720/720 [00:00&lt;00:00, 31.2kB/s]"
     }
    },
    "729911f9828d4aed901c591caa4eb6c0": {
     "model_module": "@jupyter-widgets/base",
     "model_module_version": "1.2.0",
     "model_name": "LayoutModel",
     "state": {
      "_model_module": "@jupyter-widgets/base",
      "_model_module_version": "1.2.0",
      "_model_name": "LayoutModel",
      "_view_count": null,
      "_view_module": "@jupyter-widgets/base",
      "_view_module_version": "1.2.0",
      "_view_name": "LayoutView",
      "align_content": null,
      "align_items": null,
      "align_self": null,
      "border": null,
      "bottom": null,
      "display": null,
      "flex": null,
      "flex_flow": null,
      "grid_area": null,
      "grid_auto_columns": null,
      "grid_auto_flow": null,
      "grid_auto_rows": null,
      "grid_column": null,
      "grid_gap": null,
      "grid_row": null,
      "grid_template_areas": null,
      "grid_template_columns": null,
      "grid_template_rows": null,
      "height": null,
      "justify_content": null,
      "justify_items": null,
      "left": null,
      "margin": null,
      "max_height": null,
      "max_width": null,
      "min_height": null,
      "min_width": null,
      "object_fit": null,
      "object_position": null,
      "order": null,
      "overflow": null,
      "overflow_x": null,
      "overflow_y": null,
      "padding": null,
      "right": null,
      "top": null,
      "visibility": null,
      "width": null
     }
    },
    "820a52796ddf4b90a5a18dad630e990a": {
     "model_module": "@jupyter-widgets/controls",
     "model_module_version": "1.5.0",
     "model_name": "DescriptionStyleModel",
     "state": {
      "_model_module": "@jupyter-widgets/controls",
      "_model_module_version": "1.5.0",
      "_model_name": "DescriptionStyleModel",
      "_view_count": null,
      "_view_module": "@jupyter-widgets/base",
      "_view_module_version": "1.2.0",
      "_view_name": "StyleView",
      "description_width": ""
     }
    },
    "9351cd2bb0e84407b90e900349b75dc5": {
     "model_module": "@jupyter-widgets/base",
     "model_module_version": "1.2.0",
     "model_name": "LayoutModel",
     "state": {
      "_model_module": "@jupyter-widgets/base",
      "_model_module_version": "1.2.0",
      "_model_name": "LayoutModel",
      "_view_count": null,
      "_view_module": "@jupyter-widgets/base",
      "_view_module_version": "1.2.0",
      "_view_name": "LayoutView",
      "align_content": null,
      "align_items": null,
      "align_self": null,
      "border": null,
      "bottom": null,
      "display": null,
      "flex": null,
      "flex_flow": null,
      "grid_area": null,
      "grid_auto_columns": null,
      "grid_auto_flow": null,
      "grid_auto_rows": null,
      "grid_column": null,
      "grid_gap": null,
      "grid_row": null,
      "grid_template_areas": null,
      "grid_template_columns": null,
      "grid_template_rows": null,
      "height": null,
      "justify_content": null,
      "justify_items": null,
      "left": null,
      "margin": null,
      "max_height": null,
      "max_width": null,
      "min_height": null,
      "min_width": null,
      "object_fit": null,
      "object_position": null,
      "order": null,
      "overflow": null,
      "overflow_x": null,
      "overflow_y": null,
      "padding": null,
      "right": null,
      "top": null,
      "visibility": null,
      "width": null
     }
    },
    "a1f9c143070b4dcc89aac526cf7db7b9": {
     "model_module": "@jupyter-widgets/controls",
     "model_module_version": "1.5.0",
     "model_name": "ProgressStyleModel",
     "state": {
      "_model_module": "@jupyter-widgets/controls",
      "_model_module_version": "1.5.0",
      "_model_name": "ProgressStyleModel",
      "_view_count": null,
      "_view_module": "@jupyter-widgets/base",
      "_view_module_version": "1.2.0",
      "_view_name": "StyleView",
      "bar_color": null,
      "description_width": ""
     }
    },
    "a478bafed8e047d18bf612da8d4e5e63": {
     "model_module": "@jupyter-widgets/controls",
     "model_module_version": "1.5.0",
     "model_name": "DescriptionStyleModel",
     "state": {
      "_model_module": "@jupyter-widgets/controls",
      "_model_module_version": "1.5.0",
      "_model_name": "DescriptionStyleModel",
      "_view_count": null,
      "_view_module": "@jupyter-widgets/base",
      "_view_module_version": "1.2.0",
      "_view_name": "StyleView",
      "description_width": ""
     }
    },
    "acb497d4c49942e7b949702b71238a28": {
     "model_module": "@jupyter-widgets/controls",
     "model_module_version": "1.5.0",
     "model_name": "FloatProgressModel",
     "state": {
      "_dom_classes": [],
      "_model_module": "@jupyter-widgets/controls",
      "_model_module_version": "1.5.0",
      "_model_name": "FloatProgressModel",
      "_view_count": null,
      "_view_module": "@jupyter-widgets/controls",
      "_view_module_version": "1.5.0",
      "_view_name": "ProgressView",
      "bar_style": "success",
      "description": "",
      "description_tooltip": null,
      "layout": "IPY_MODEL_55e44b79ef3441d594b887d4282a28e3",
      "max": 2749,
      "min": 0,
      "orientation": "horizontal",
      "style": "IPY_MODEL_53bd08bed70e42a29691fe0559111095",
      "value": 2749
     }
    },
    "b0deffc76fc44e79906a28f1d525337a": {
     "model_module": "@jupyter-widgets/controls",
     "model_module_version": "1.5.0",
     "model_name": "HBoxModel",
     "state": {
      "_dom_classes": [],
      "_model_module": "@jupyter-widgets/controls",
      "_model_module_version": "1.5.0",
      "_model_name": "HBoxModel",
      "_view_count": null,
      "_view_module": "@jupyter-widgets/controls",
      "_view_module_version": "1.5.0",
      "_view_name": "HBoxView",
      "box_style": "",
      "children": [
       "IPY_MODEL_c9fa29f07fd5440aacde8f2bc417047a",
       "IPY_MODEL_acb497d4c49942e7b949702b71238a28",
       "IPY_MODEL_4f357fadc8f943df9453f7da0df9c892"
      ],
      "layout": "IPY_MODEL_5a551294d7ba44f19c74fb19285d219c"
     }
    },
    "c45929234b784c05ab6af3933388471c": {
     "model_module": "@jupyter-widgets/controls",
     "model_module_version": "1.5.0",
     "model_name": "HTMLModel",
     "state": {
      "_dom_classes": [],
      "_model_module": "@jupyter-widgets/controls",
      "_model_module_version": "1.5.0",
      "_model_name": "HTMLModel",
      "_view_count": null,
      "_view_module": "@jupyter-widgets/controls",
      "_view_module_version": "1.5.0",
      "_view_name": "HTMLView",
      "description": "",
      "description_tooltip": null,
      "layout": "IPY_MODEL_37198cbdb22840fbbf8e26add7bd4eaa",
      "placeholder": "​",
      "style": "IPY_MODEL_633243e653204a7db2625c093d438452",
      "value": " 139M/139M [00:04&lt;00:00, 39.6MB/s]"
     }
    },
    "c9fa29f07fd5440aacde8f2bc417047a": {
     "model_module": "@jupyter-widgets/controls",
     "model_module_version": "1.5.0",
     "model_name": "HTMLModel",
     "state": {
      "_dom_classes": [],
      "_model_module": "@jupyter-widgets/controls",
      "_model_module_version": "1.5.0",
      "_model_name": "HTMLModel",
      "_view_count": null,
      "_view_module": "@jupyter-widgets/controls",
      "_view_module_version": "1.5.0",
      "_view_name": "HTMLView",
      "description": "",
      "description_tooltip": null,
      "layout": "IPY_MODEL_e116f73856214025aeae083ddf9f7781",
      "placeholder": "​",
      "style": "IPY_MODEL_a478bafed8e047d18bf612da8d4e5e63",
      "value": "Generating train split: 100%"
     }
    },
    "e116f73856214025aeae083ddf9f7781": {
     "model_module": "@jupyter-widgets/base",
     "model_module_version": "1.2.0",
     "model_name": "LayoutModel",
     "state": {
      "_model_module": "@jupyter-widgets/base",
      "_model_module_version": "1.2.0",
      "_model_name": "LayoutModel",
      "_view_count": null,
      "_view_module": "@jupyter-widgets/base",
      "_view_module_version": "1.2.0",
      "_view_name": "LayoutView",
      "align_content": null,
      "align_items": null,
      "align_self": null,
      "border": null,
      "bottom": null,
      "display": null,
      "flex": null,
      "flex_flow": null,
      "grid_area": null,
      "grid_auto_columns": null,
      "grid_auto_flow": null,
      "grid_auto_rows": null,
      "grid_column": null,
      "grid_gap": null,
      "grid_row": null,
      "grid_template_areas": null,
      "grid_template_columns": null,
      "grid_template_rows": null,
      "height": null,
      "justify_content": null,
      "justify_items": null,
      "left": null,
      "margin": null,
      "max_height": null,
      "max_width": null,
      "min_height": null,
      "min_width": null,
      "object_fit": null,
      "object_position": null,
      "order": null,
      "overflow": null,
      "overflow_x": null,
      "overflow_y": null,
      "padding": null,
      "right": null,
      "top": null,
      "visibility": null,
      "width": null
     }
    },
    "e38c69b781424076a407db222b4f48d3": {
     "model_module": "@jupyter-widgets/controls",
     "model_module_version": "1.5.0",
     "model_name": "HBoxModel",
     "state": {
      "_dom_classes": [],
      "_model_module": "@jupyter-widgets/controls",
      "_model_module_version": "1.5.0",
      "_model_name": "HBoxModel",
      "_view_count": null,
      "_view_module": "@jupyter-widgets/controls",
      "_view_module_version": "1.5.0",
      "_view_name": "HBoxView",
      "box_style": "",
      "children": [
       "IPY_MODEL_698bd5df72f8444a8a673c11bfb831bf",
       "IPY_MODEL_e57333cf075948869ed758fea1f0022f",
       "IPY_MODEL_c45929234b784c05ab6af3933388471c"
      ],
      "layout": "IPY_MODEL_41acd492ef5d4adf99e72b321de11f9c"
     }
    },
    "e57333cf075948869ed758fea1f0022f": {
     "model_module": "@jupyter-widgets/controls",
     "model_module_version": "1.5.0",
     "model_name": "FloatProgressModel",
     "state": {
      "_dom_classes": [],
      "_model_module": "@jupyter-widgets/controls",
      "_model_module_version": "1.5.0",
      "_model_name": "FloatProgressModel",
      "_view_count": null,
      "_view_module": "@jupyter-widgets/controls",
      "_view_module_version": "1.5.0",
      "_view_name": "ProgressView",
      "bar_style": "success",
      "description": "",
      "description_tooltip": null,
      "layout": "IPY_MODEL_f7f9b5cc088048548705907c5e11e973",
      "max": 138595810,
      "min": 0,
      "orientation": "horizontal",
      "style": "IPY_MODEL_a1f9c143070b4dcc89aac526cf7db7b9",
      "value": 138595810
     }
    },
    "e961d74723b54dcbb6f681cb65a42a6d": {
     "model_module": "@jupyter-widgets/base",
     "model_module_version": "1.2.0",
     "model_name": "LayoutModel",
     "state": {
      "_model_module": "@jupyter-widgets/base",
      "_model_module_version": "1.2.0",
      "_model_name": "LayoutModel",
      "_view_count": null,
      "_view_module": "@jupyter-widgets/base",
      "_view_module_version": "1.2.0",
      "_view_name": "LayoutView",
      "align_content": null,
      "align_items": null,
      "align_self": null,
      "border": null,
      "bottom": null,
      "display": null,
      "flex": null,
      "flex_flow": null,
      "grid_area": null,
      "grid_auto_columns": null,
      "grid_auto_flow": null,
      "grid_auto_rows": null,
      "grid_column": null,
      "grid_gap": null,
      "grid_row": null,
      "grid_template_areas": null,
      "grid_template_columns": null,
      "grid_template_rows": null,
      "height": null,
      "justify_content": null,
      "justify_items": null,
      "left": null,
      "margin": null,
      "max_height": null,
      "max_width": null,
      "min_height": null,
      "min_width": null,
      "object_fit": null,
      "object_position": null,
      "order": null,
      "overflow": null,
      "overflow_x": null,
      "overflow_y": null,
      "padding": null,
      "right": null,
      "top": null,
      "visibility": null,
      "width": null
     }
    },
    "f4dcf74e13824a1bb6328801db9c1cea": {
     "model_module": "@jupyter-widgets/controls",
     "model_module_version": "1.5.0",
     "model_name": "ProgressStyleModel",
     "state": {
      "_model_module": "@jupyter-widgets/controls",
      "_model_module_version": "1.5.0",
      "_model_name": "ProgressStyleModel",
      "_view_count": null,
      "_view_module": "@jupyter-widgets/base",
      "_view_module_version": "1.2.0",
      "_view_name": "StyleView",
      "bar_color": null,
      "description_width": ""
     }
    },
    "f7f9b5cc088048548705907c5e11e973": {
     "model_module": "@jupyter-widgets/base",
     "model_module_version": "1.2.0",
     "model_name": "LayoutModel",
     "state": {
      "_model_module": "@jupyter-widgets/base",
      "_model_module_version": "1.2.0",
      "_model_name": "LayoutModel",
      "_view_count": null,
      "_view_module": "@jupyter-widgets/base",
      "_view_module_version": "1.2.0",
      "_view_name": "LayoutView",
      "align_content": null,
      "align_items": null,
      "align_self": null,
      "border": null,
      "bottom": null,
      "display": null,
      "flex": null,
      "flex_flow": null,
      "grid_area": null,
      "grid_auto_columns": null,
      "grid_auto_flow": null,
      "grid_auto_rows": null,
      "grid_column": null,
      "grid_gap": null,
      "grid_row": null,
      "grid_template_areas": null,
      "grid_template_columns": null,
      "grid_template_rows": null,
      "height": null,
      "justify_content": null,
      "justify_items": null,
      "left": null,
      "margin": null,
      "max_height": null,
      "max_width": null,
      "min_height": null,
      "min_width": null,
      "object_fit": null,
      "object_position": null,
      "order": null,
      "overflow": null,
      "overflow_x": null,
      "overflow_y": null,
      "padding": null,
      "right": null,
      "top": null,
      "visibility": null,
      "width": null
     }
    },
    "fecffb63959d408a89f816f15442729d": {
     "model_module": "@jupyter-widgets/base",
     "model_module_version": "1.2.0",
     "model_name": "LayoutModel",
     "state": {
      "_model_module": "@jupyter-widgets/base",
      "_model_module_version": "1.2.0",
      "_model_name": "LayoutModel",
      "_view_count": null,
      "_view_module": "@jupyter-widgets/base",
      "_view_module_version": "1.2.0",
      "_view_name": "LayoutView",
      "align_content": null,
      "align_items": null,
      "align_self": null,
      "border": null,
      "bottom": null,
      "display": null,
      "flex": null,
      "flex_flow": null,
      "grid_area": null,
      "grid_auto_columns": null,
      "grid_auto_flow": null,
      "grid_auto_rows": null,
      "grid_column": null,
      "grid_gap": null,
      "grid_row": null,
      "grid_template_areas": null,
      "grid_template_columns": null,
      "grid_template_rows": null,
      "height": null,
      "justify_content": null,
      "justify_items": null,
      "left": null,
      "margin": null,
      "max_height": null,
      "max_width": null,
      "min_height": null,
      "min_width": null,
      "object_fit": null,
      "object_position": null,
      "order": null,
      "overflow": null,
      "overflow_x": null,
      "overflow_y": null,
      "padding": null,
      "right": null,
      "top": null,
      "visibility": null,
      "width": null
     }
    }
   }
  }
 },
 "nbformat": 4,
 "nbformat_minor": 5
}
